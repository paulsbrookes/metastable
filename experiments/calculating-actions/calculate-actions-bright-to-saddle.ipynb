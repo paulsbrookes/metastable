{
 "cells": [
  {
   "cell_type": "code",
   "metadata": {
    "ExecuteTime": {
     "end_time": "2024-08-26T22:13:43.505591Z",
     "start_time": "2024-08-26T22:13:41.547174Z"
    }
   },
   "source": [
    "import numpy as np\n",
    "import scipy\n",
    "import matplotlib.pyplot as plt\n",
    "\n",
    "\n",
    "from metastable.map.map import FixedPointMap\n",
    "\n",
    "\n",
    "map_path = \"/home/paul/Projects/keldysh/metastable/experiments/output2/output_map.npz\"\n",
    "fixed_point_map = FixedPointMap.load(map_path)"
   ],
   "outputs": [
    {
     "name": "stdout",
     "output_type": "stream",
     "text": [
      "Quimb not available.\n"
     ]
    }
   ],
   "execution_count": 1
  },
  {
   "metadata": {
    "ExecuteTime": {
     "end_time": "2024-07-26T15:22:47.110373Z",
     "start_time": "2024-07-26T15:22:47.107413Z"
    }
   },
   "cell_type": "code",
   "source": [
    "def calculate_action(bvp_result):\n",
    "    \n",
    "    def integrand_func(t):\n",
    "        integrand = -bvp_result.sol(t,nu=1)[0]*bvp_result.sol(t)[2]\n",
    "        integrand -= bvp_result.sol(t,nu=1)[1]*bvp_result.sol(t)[3]\n",
    "        return integrand\n",
    "\n",
    "    action, action_error = scipy.integrate.quad(integrand_func, 0, bvp_result.x[-1], limit=2000, epsabs=1e-2)\n",
    "    \n",
    "    return action, action_error"
   ],
   "outputs": [],
   "execution_count": 4
  },
  {
   "metadata": {
    "ExecuteTime": {
     "end_time": "2024-07-26T15:26:11.875292Z",
     "start_time": "2024-07-26T15:26:11.786152Z"
    }
   },
   "cell_type": "code",
   "source": [
    "indexes = np.where(fixed_point_map.path_results[380,:,0])[0]\n",
    "\n",
    "actions_array = np.zeros(len(indexes))\n",
    "actions_list = []\n",
    "\n",
    "for idx in indexes:\n",
    "    bvp_result = fixed_point_map.path_results[380,idx,0]\n",
    "    action, action_error = calculate_action(bvp_result)\n",
    "    actions_list.append(action)"
   ],
   "outputs": [],
   "execution_count": 14
  },
  {
   "metadata": {
    "ExecuteTime": {
     "end_time": "2024-08-26T22:14:00.050379Z",
     "start_time": "2024-08-26T22:14:00.048646Z"
    }
   },
   "cell_type": "code",
   "source": "",
   "outputs": [],
   "execution_count": null
  },
  {
   "metadata": {},
   "cell_type": "code",
   "outputs": [],
   "execution_count": null,
   "source": ""
  },
  {
   "metadata": {
    "ExecuteTime": {
     "end_time": "2024-07-28T13:11:59.893717Z",
     "start_time": "2024-07-28T13:11:59.891967Z"
    }
   },
   "cell_type": "code",
   "source": "",
   "outputs": [],
   "execution_count": 17
  },
  {
   "metadata": {
    "ExecuteTime": {
     "end_time": "2024-07-28T13:15:00.582962Z",
     "start_time": "2024-07-28T13:15:00.579304Z"
    }
   },
   "cell_type": "code",
   "source": [
    "from metastable.rescaled.barriers import dykman_actions_calc\n",
    "\n",
    "\n",
    "epsilon = fixed_point_map.epsilon_linspace[380]\n",
    "\n",
    "\n",
    "dykman_actions = dykman_actions_calc(\n",
    "    delta=fixed_point_map.delta,\n",
    "    chi=fixed_point_map.chi,\n",
    "    eps=fixed_point_map.epsilon_linspace[380],\n",
    "    kappa=fixed_point_map.kappa_linspace[indexes],\n",
    ") "
   ],
   "outputs": [],
   "execution_count": 18
  },
  {
   "metadata": {
    "ExecuteTime": {
     "end_time": "2024-07-28T13:15:17.622948Z",
     "start_time": "2024-07-28T13:15:17.619377Z"
    }
   },
   "cell_type": "code",
   "source": "dykman_actions[1]",
   "outputs": [
    {
     "data": {
      "text/plain": [
       "array([-3.76186638, -3.82624245, -3.89134596, -3.95718275, -4.02375874,\n",
       "       -4.09107996, -4.15915253, -4.22798265, -4.29757664, -4.3679409 ,\n",
       "       -4.43908198, -4.51100648, -4.58372116, -4.65723288, -4.73154862,\n",
       "       -4.80667547, -4.88262067, -4.95939158, -5.03699569, -5.11544064,\n",
       "       -5.19473422, -5.27488434, -5.35589909, -5.4377867 , -5.52055559,\n",
       "       -5.60421431, -5.68877162, -5.77423644, -5.86061787, -5.94792521,\n",
       "       -6.03616797, -6.12535584, -6.21549874, -6.30660679, -6.39869036,\n",
       "       -6.49176002, -6.58582662, -6.68090123, -6.77699518, -6.87412009,\n",
       "       -6.97228783, -7.07151057, -7.17180078, -7.27317121, -7.37563497,\n",
       "       -7.47920547, -7.58389646, -7.68972207])"
      ]
     },
     "execution_count": 21,
     "metadata": {},
     "output_type": "execute_result"
    }
   ],
   "execution_count": 21
  },
  {
   "metadata": {},
   "cell_type": "code",
   "outputs": [],
   "execution_count": null,
   "source": ""
  },
  {
   "metadata": {},
   "cell_type": "code",
   "outputs": [],
   "execution_count": null,
   "source": ""
  },
  {
   "metadata": {},
   "cell_type": "code",
   "outputs": [],
   "execution_count": null,
   "source": ""
  },
  {
   "metadata": {
    "ExecuteTime": {
     "end_time": "2024-07-28T13:15:33.160926Z",
     "start_time": "2024-07-28T13:15:33.078565Z"
    }
   },
   "cell_type": "code",
   "source": [
    "plt.plot(fixed_point_map.kappa_linspace[indexes], actions_list)\n",
    "plt.plot(fixed_point_map.kappa_linspace[indexes], dykman_actions[0])\n",
    "plt.xlabel(r'$\\kappa$')\n",
    "plt.ylabel(r'action, bright to saddle point')\n",
    "plt.ylim([-100,10])"
   ],
   "outputs": [
    {
     "data": {
      "text/plain": [
       "(-100.0, 10.0)"
      ]
     },
     "execution_count": 23,
     "metadata": {},
     "output_type": "execute_result"
    },
    {
     "data": {
      "text/plain": [
       "<Figure size 640x480 with 1 Axes>"
      ],
      "image/png": "[encoded data removed]"
     },
     "metadata": {},
     "output_type": "display_data"
    }
   ],
   "execution_count": 23
  },
  {
   "metadata": {},
   "cell_type": "code",
   "outputs": [],
   "execution_count": null,
   "source": ""
  },
  {
   "metadata": {},
   "cell_type": "code",
   "outputs": [],
   "execution_count": null,
   "source": ""
  },
  {
   "metadata": {
    "ExecuteTime": {
     "end_time": "2024-07-26T15:31:32.889592Z",
     "start_time": "2024-07-26T15:31:32.881599Z"
    }
   },
   "cell_type": "code",
   "source": [
    "import pandas as pd\n",
    "actions_series = pd.Series(actions_list, index=fixed_point_map.kappa_linspace[indexes])\n",
    "actions_series.to_frame().to_parquet('actions_bright_to_saddle.parquet')"
   ],
   "outputs": [],
   "execution_count": 16
  },
  {
   "metadata": {
    "ExecuteTime": {
     "end_time": "2024-07-28T13:45:01.986877Z",
     "start_time": "2024-07-28T13:45:01.983171Z"
    }
   },
   "cell_type": "code",
   "source": [
    "dykman_actions_series = pd.Series(dykman_actions[0], index=fixed_point_map.kappa_linspace[indexes])\n",
    "dykman_actions_series.to_frame().to_parquet('dykman_actions_bright_to_saddle.parquet')"
   ],
   "outputs": [],
   "execution_count": 24
  },
  {
   "metadata": {},
   "cell_type": "code",
   "outputs": [],
   "execution_count": null,
   "source": ""
  },
  {
   "metadata": {
    "ExecuteTime": {
     "end_time": "2024-07-15T08:14:23.101110Z",
     "start_time": "2024-07-15T08:14:23.093876Z"
    }
   },
   "cell_type": "code",
   "source": [
    "dykman_actions_linspace = []\n",
    "from metastable.dykman import dykman_actions_calc\n",
    "\n",
    "for kappa in fixed_point_map.kappa_linspace:\n",
    "    dykman_actions_linspace.append(dykman_actions_calc(\n",
    "    delta=fixed_point_map.delta,\n",
    "    chi=fixed_point_map.chi,\n",
    "    eps=fixed_point_map.epsilon_linspace[360],\n",
    "    kappa=kappa,\n",
    "    ))\n",
    "    \n",
    "dykman_actions_linspace = np.array(dykman_actions_linspace)"
   ],
   "outputs": [],
   "execution_count": 9
  },
  {
   "metadata": {
    "ExecuteTime": {
     "end_time": "2024-07-15T08:14:24.072292Z",
     "start_time": "2024-07-15T08:14:23.985638Z"
    }
   },
   "cell_type": "code",
   "source": [
    "plt.plot(fixed_point_map.kappa_linspace, actions_array)\n",
    "plt.plot(fixed_point_map.kappa_linspace, dykman_actions_linspace[:,0])\n",
    "plt.xlabel(r'$\\kappa$')\n",
    "plt.ylabel(r'action, bright to saddle point')\n",
    "plt.ylim([-100,10])"
   ],
   "outputs": [
    {
     "data": {
      "text/plain": [
       "(-100.0, 10.0)"
      ]
     },
     "execution_count": 10,
     "metadata": {},
     "output_type": "execute_result"
    },
    {
     "data": {
      "text/plain": [
       "<Figure size 640x480 with 1 Axes>"
      ],
      "image/png": "[encoded data removed]"
     },
     "metadata": {},
     "output_type": "display_data"
    }
   ],
   "execution_count": 10
  },
  {
   "metadata": {
    "ExecuteTime": {
     "end_time": "2024-07-15T08:14:24.256972Z",
     "start_time": "2024-07-15T08:14:24.255171Z"
    }
   },
   "cell_type": "code",
   "source": "",
   "outputs": [],
   "execution_count": 10
  },
  {
   "metadata": {},
   "cell_type": "code",
   "outputs": [],
   "execution_count": null,
   "source": ""
  }
 ],
 "metadata": {
  "kernelspec": {
   "display_name": "keldysh",
   "language": "python",
   "name": "python3"
  },
  "language_info": {
   "codemirror_mode": {
    "name": "ipython",
    "version": 3
   },
   "file_extension": ".py",
   "mimetype": "text/x-python",
   "name": "python",
   "nbconvert_exporter": "python",
   "pygments_lexer": "ipython3",
   "version": "3.10.0"
  },
  "orig_nbformat": 4
 },
 "nbformat": 4,
 "nbformat_minor": 2
}
