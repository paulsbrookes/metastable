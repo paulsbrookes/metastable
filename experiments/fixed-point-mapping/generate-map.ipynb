{
 "cells": [
  {
   "cell_type": "markdown",
   "metadata": {},
   "source": [
    "# Fixed Point Mapping for a Driven Nonlinear Oscillator\n",
    "\n",
    "This notebook generates a map of fixed points for a driven nonlinear oscillator across parameter space. The system exhibits bistability, meaning it has multiple stable states (fixed points) for certain parameter ranges.\n",
    "\n",
    "## System Parameters\n",
    "- `epsilon`: Drive strength\n",
    "- `kappa`: Damping rate\n",
    "- `delta`: Detuning from resonance\n",
    "- `chi`: Nonlinearity coefficient"
   ]
  },
  {
   "cell_type": "code",
   "execution_count": null,
   "metadata": {},
   "outputs": [],
   "source": [
    "from __future__ import annotations\n",
    "import numpy as np\n",
    "\n",
    "from metastable.zero_damping import solve_zero_damping\n",
    "from metastable.map.map import PhaseSpaceMap\n",
    "from metastable.extend_map import extend_map"
   ]
  },
  {
   "cell_type": "markdown",
   "metadata": {},
   "source": [
    "## Initialize Parameter Space\n",
    "\n",
    "We create a grid in parameter space (epsilon, kappa) where we'll search for fixed points.\n",
    "The system exhibits three types of fixed points:\n",
    "1. Bright state (high amplitude)\n",
    "2. Dim state (low amplitude)\n",
    "3. Saddle point (unstable)"
   ]
  },
  {
   "cell_type": "code",
   "execution_count": null,
   "metadata": {},
   "outputs": [],
   "source": [
    "seed_map = PhaseSpaceMap(\n",
    "    epsilon_linspace=np.linspace(start=0.0, stop=30.0, num=601),  # Drive strength\n",
    "    kappa_linspace=np.linspace(start=0.0, stop=5.0, num=401),     # Damping rate\n",
    "    delta=7.8,    # Detuning\n",
    "    chi=-0.1,     # Nonlinearity\n",
    ")"
   ]
  },
  {
   "cell_type": "markdown",
   "metadata": {},
   "source": [
    "## Generate Seed Solution\n",
    "\n",
    "We start by finding fixed points at zero damping (kappa=0) where analytical solutions exist.\n",
    "These solutions will serve as seeds for numerical continuation to non-zero damping."
   ]
  },
  {
   "cell_type": "code",
   "execution_count": null,
   "metadata": {},
   "outputs": [],
   "source": [
    "# Choose a point in parameter space for the seed solution\n",
    "epsilon_idx = 0\n",
    "kappa_idx = 0\n",
    "\n",
    "# Double check that we are at zero damping\n",
    "assert seed_map.kappa_linspace[kappa_idx] == 0.0"
   ]
  },
  {
   "cell_type": "markdown",
   "metadata": {},
   "source": [
    "## Find Analytical Solutions\n",
    "\n",
    "At zero damping, we can solve for fixed points analytically using the `solve_zero_damping` function."
   ]
  },
  {
   "cell_type": "code",
   "execution_count": null,
   "metadata": {},
   "outputs": [],
   "source": [
    "# Generate the seed solution analytically\n",
    "seed_points = solve_zero_damping(\n",
    "    epsilon=seed_map.epsilon_linspace[epsilon_idx],\n",
    "    delta=seed_map.delta,\n",
    "    chi=seed_map.chi,\n",
    ")\n",
    "\n",
    "# We need to start with seeds for all three types of fixed point\n",
    "assert len([point for point in seed_points if point is not None]) == 3"
   ]
  },
  {
   "cell_type": "markdown",
   "metadata": {},
   "source": [
    "## Update Map with Seeds\n",
    "\n",
    "Store the analytical solutions in our map data structure."
   ]
  },
  {
   "cell_type": "code",
   "execution_count": null,
   "metadata": {},
   "outputs": [],
   "source": [
    "# Update the state of the arrays\n",
    "seed_map.update_map(\n",
    "    epsilon_idx=epsilon_idx, kappa_idx=kappa_idx, new_fixed_points=seed_points\n",
    ")"
   ]
  },
  {
   "cell_type": "markdown",
   "metadata": {},
   "source": [
    "## Extend Solutions Across Parameter Space\n",
    "\n",
    "Using numerical continuation, we extend our solutions from zero damping to the full parameter space.\n",
    "The `extend_map` function follows the fixed points as parameters change."
   ]
  },
  {
   "cell_type": "code",
   "execution_count": null,
   "metadata": {},
   "outputs": [],
   "source": [
    "fixed_points_map = extend_map(seed_map)\n",
    "\n",
    "fixed_points_map.save_state(file_path=\"map-601x401.npz\")"
   ]
  }
 ],
 "metadata": {
  "kernelspec": {
   "display_name": "Python 3",
   "language": "python",
   "name": "python3"
  },
  "language_info": {
   "codemirror_mode": {
    "name": "ipython",
    "version": 3
   },
   "file_extension": ".py",
   "mimetype": "text/x-python",
   "name": "python",
   "nbconvert_exporter": "python",
   "pygments_lexer": "ipython3",
   "version": "3.10.0"
  }
 },
 "nbformat": 4,
 "nbformat_minor": 4
}
