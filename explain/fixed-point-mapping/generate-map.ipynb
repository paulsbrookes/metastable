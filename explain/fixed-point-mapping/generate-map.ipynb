{
 "cells": [
  {
   "cell_type": "markdown",
   "metadata": {},
   "source": [
    "# Fixed Point Mapping for a Driven Nonlinear Oscillator\n",
    "\n",
    "This notebook generates a map of fixed points for a driven nonlinear oscillator across parameter space. The system exhibits bistability, meaning it has multiple stable states (fixed points) for certain parameter ranges.\n",
    "\n",
    "## System Parameters\n",
    "- `epsilon`: Drive strength\n",
    "- `kappa`: Damping rate\n",
    "- `delta`: Detuning from resonance\n",
    "- `chi`: Nonlinearity coefficient"
   ]
  },
  {
   "cell_type": "code",
   "execution_count": 1,
   "metadata": {},
   "outputs": [
    {
     "name": "stdout",
     "output_type": "stream",
     "text": [
      "Quimb not available.\n"
     ]
    }
   ],
   "source": [
    "import numpy as np\n",
    "\n",
    "from metastable.zero_damping import solve_zero_damping\n",
    "from metastable.map.map import PhaseSpaceMap\n",
    "from metastable.extend_map import extend_map"
   ]
  },
  {
   "cell_type": "markdown",
   "metadata": {},
   "source": [
    "## Initialize Parameter Space\n",
    "\n",
    "We create a grid in parameter space (epsilon, kappa) where we'll search for fixed points.\n",
    "The system exhibits three types of fixed points:\n",
    "1. Bright state (high amplitude)\n",
    "2. Dim state (low amplitude)\n",
    "3. Saddle point (unstable)"
   ]
  },
  {
   "cell_type": "code",
   "execution_count": 2,
   "metadata": {},
   "outputs": [],
   "source": [
    "seed_map = PhaseSpaceMap(\n",
    "    epsilon_linspace=np.linspace(start=0.0, stop=30.0, num=601),  # Drive strength\n",
    "    kappa_linspace=np.linspace(start=0.0, stop=5.0, num=401),     # Damping rate\n",
    "    delta=7.8,    # Detuning\n",
    "    chi=-0.1,     # Nonlinearity\n",
    ")"
   ]
  },
  {
   "cell_type": "markdown",
   "metadata": {},
   "source": [
    "## Generate Seed Solution\n",
    "\n",
    "We start by finding fixed points at zero damping (kappa=0) where analytical solutions exist.\n",
    "These solutions will serve as seeds for numerical continuation to non-zero damping."
   ]
  },
  {
   "cell_type": "code",
   "execution_count": 3,
   "metadata": {},
   "outputs": [],
   "source": [
    "# Choose a point in parameter space for the seed solution\n",
    "epsilon_idx = 0\n",
    "kappa_idx = 0\n",
    "\n",
    "# Double check that we are at zero damping\n",
    "assert seed_map.kappa_linspace[kappa_idx] == 0.0"
   ]
  },
  {
   "cell_type": "markdown",
   "metadata": {},
   "source": [
    "## Find Analytical Solutions\n",
    "\n",
    "At zero damping, we can solve for fixed points analytically using the `solve_zero_damping` function."
   ]
  },
  {
   "cell_type": "code",
   "execution_count": 4,
   "metadata": {},
   "outputs": [],
   "source": [
    "# Generate the seed solution analytically\n",
    "seed_points = solve_zero_damping(\n",
    "    epsilon=seed_map.epsilon_linspace[epsilon_idx],\n",
    "    delta=seed_map.delta,\n",
    "    chi=seed_map.chi,\n",
    ")\n",
    "\n",
    "# We need to start with seeds for all three types of fixed point\n",
    "assert len([point for point in seed_points if point is not None]) == 3"
   ]
  },
  {
   "cell_type": "markdown",
   "metadata": {},
   "source": [
    "## Update Map with Seeds\n",
    "\n",
    "Store the analytical solutions in our map data structure."
   ]
  },
  {
   "cell_type": "code",
   "execution_count": 5,
   "metadata": {},
   "outputs": [],
   "source": [
    "# Update the state of the arrays\n",
    "seed_map.update_map(\n",
    "    epsilon_idx=epsilon_idx, kappa_idx=kappa_idx, new_fixed_points=seed_points\n",
    ")"
   ]
  },
  {
   "cell_type": "markdown",
   "metadata": {},
   "source": [
    "## Extend Solutions Across Parameter Space\n",
    "\n",
    "Using numerical continuation, we extend our solutions from zero damping to the full parameter space.\n",
    "The `extend_map` function follows the fixed points as parameters change."
   ]
  },
  {
   "cell_type": "code",
   "execution_count": 6,
   "metadata": {},
   "outputs": [
    {
     "name": "stderr",
     "output_type": "stream",
     "text": [
      "  0%|          | 1/601 [00:00<03:30,  2.85it/s]/home/paul/Projects/keldysh/metastable/src/metastable/neighbour_average.py:26: RuntimeWarning: Mean of empty slice\n",
      "  return np.nanmean(sub_arrays, axis=0)\n",
      " 77%|███████▋  | 464/601 [24:32<07:14,  3.17s/it]\n"
     ]
    },
    {
     "ename": "KeyboardInterrupt",
     "evalue": "",
     "output_type": "error",
     "traceback": [
      "\u001b[0;31m---------------------------------------------------------------------------\u001b[0m",
      "\u001b[0;31mKeyboardInterrupt\u001b[0m                         Traceback (most recent call last)",
      "Cell \u001b[0;32mIn[6], line 1\u001b[0m\n\u001b[0;32m----> 1\u001b[0m fixed_points_map \u001b[38;5;241m=\u001b[39m \u001b[43mextend_map\u001b[49m\u001b[43m(\u001b[49m\u001b[43mseed_map\u001b[49m\u001b[43m)\u001b[49m\n\u001b[1;32m      3\u001b[0m fixed_points_map\u001b[38;5;241m.\u001b[39msave_state(file_path\u001b[38;5;241m=\u001b[39m\u001b[38;5;124m\"\u001b[39m\u001b[38;5;124mmap-601x401.npz\u001b[39m\u001b[38;5;124m\"\u001b[39m)\n",
      "File \u001b[0;32m~/Projects/keldysh/metastable/src/metastable/extend_map.py:52\u001b[0m, in \u001b[0;36mextend_map\u001b[0;34m(seeded_map)\u001b[0m\n\u001b[1;32m     48\u001b[0m             futures\u001b[38;5;241m.\u001b[39mappend(future)\n\u001b[1;32m     49\u001b[0m         \u001b[38;5;28;01mfor\u001b[39;00m (epsilon_idx, kappa_idx), future \u001b[38;5;129;01min\u001b[39;00m \u001b[38;5;28mzip\u001b[39m(\n\u001b[1;32m     50\u001b[0m             boundary_indexes_queue, futures\n\u001b[1;32m     51\u001b[0m         ):\n\u001b[0;32m---> 52\u001b[0m             new_fixed_points \u001b[38;5;241m=\u001b[39m \u001b[43mfuture\u001b[49m\u001b[38;5;241;43m.\u001b[39;49m\u001b[43mresult\u001b[49m\u001b[43m(\u001b[49m\u001b[43m)\u001b[49m\n\u001b[1;32m     53\u001b[0m             fixed_points_map\u001b[38;5;241m.\u001b[39mupdate_map(\n\u001b[1;32m     54\u001b[0m                 epsilon_idx\u001b[38;5;241m=\u001b[39mepsilon_idx,\n\u001b[1;32m     55\u001b[0m                 kappa_idx\u001b[38;5;241m=\u001b[39mkappa_idx,\n\u001b[1;32m     56\u001b[0m                 new_fixed_points\u001b[38;5;241m=\u001b[39mnew_fixed_points,\n\u001b[1;32m     57\u001b[0m             )\n\u001b[1;32m     58\u001b[0m \u001b[38;5;28;01mreturn\u001b[39;00m fixed_points_map\n",
      "File \u001b[0;32m/usr/lib/python3.11/concurrent/futures/_base.py:451\u001b[0m, in \u001b[0;36mFuture.result\u001b[0;34m(self, timeout)\u001b[0m\n\u001b[1;32m    448\u001b[0m \u001b[38;5;28;01melif\u001b[39;00m \u001b[38;5;28mself\u001b[39m\u001b[38;5;241m.\u001b[39m_state \u001b[38;5;241m==\u001b[39m FINISHED:\n\u001b[1;32m    449\u001b[0m     \u001b[38;5;28;01mreturn\u001b[39;00m \u001b[38;5;28mself\u001b[39m\u001b[38;5;241m.\u001b[39m__get_result()\n\u001b[0;32m--> 451\u001b[0m \u001b[38;5;28;43mself\u001b[39;49m\u001b[38;5;241;43m.\u001b[39;49m\u001b[43m_condition\u001b[49m\u001b[38;5;241;43m.\u001b[39;49m\u001b[43mwait\u001b[49m\u001b[43m(\u001b[49m\u001b[43mtimeout\u001b[49m\u001b[43m)\u001b[49m\n\u001b[1;32m    453\u001b[0m \u001b[38;5;28;01mif\u001b[39;00m \u001b[38;5;28mself\u001b[39m\u001b[38;5;241m.\u001b[39m_state \u001b[38;5;129;01min\u001b[39;00m [CANCELLED, CANCELLED_AND_NOTIFIED]:\n\u001b[1;32m    454\u001b[0m     \u001b[38;5;28;01mraise\u001b[39;00m CancelledError()\n",
      "File \u001b[0;32m/usr/lib/python3.11/threading.py:327\u001b[0m, in \u001b[0;36mCondition.wait\u001b[0;34m(self, timeout)\u001b[0m\n\u001b[1;32m    325\u001b[0m \u001b[38;5;28;01mtry\u001b[39;00m:    \u001b[38;5;66;03m# restore state no matter what (e.g., KeyboardInterrupt)\u001b[39;00m\n\u001b[1;32m    326\u001b[0m     \u001b[38;5;28;01mif\u001b[39;00m timeout \u001b[38;5;129;01mis\u001b[39;00m \u001b[38;5;28;01mNone\u001b[39;00m:\n\u001b[0;32m--> 327\u001b[0m         \u001b[43mwaiter\u001b[49m\u001b[38;5;241;43m.\u001b[39;49m\u001b[43macquire\u001b[49m\u001b[43m(\u001b[49m\u001b[43m)\u001b[49m\n\u001b[1;32m    328\u001b[0m         gotit \u001b[38;5;241m=\u001b[39m \u001b[38;5;28;01mTrue\u001b[39;00m\n\u001b[1;32m    329\u001b[0m     \u001b[38;5;28;01melse\u001b[39;00m:\n",
      "\u001b[0;31mKeyboardInterrupt\u001b[0m: "
     ]
    }
   ],
   "source": [
    "fixed_points_map = extend_map(seed_map)\n",
    "\n",
    "fixed_points_map.save_state(file_path=\"map-601x401.npz\")"
   ]
  },
  {
   "cell_type": "code",
   "execution_count": null,
   "metadata": {},
   "outputs": [],
   "source": []
  }
 ],
 "metadata": {
  "kernelspec": {
   "display_name": ".venv",
   "language": "python",
   "name": "python3"
  },
  "language_info": {
   "codemirror_mode": {
    "name": "ipython",
    "version": 3
   },
   "file_extension": ".py",
   "mimetype": "text/x-python",
   "name": "python",
   "nbconvert_exporter": "python",
   "pygments_lexer": "ipython3",
   "version": "3.11.11"
  }
 },
 "nbformat": 4,
 "nbformat_minor": 4
}
